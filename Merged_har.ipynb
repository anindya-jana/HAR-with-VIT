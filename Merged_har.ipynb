{
 "cells": [
  {
   "cell_type": "code",
   "execution_count": 6,
   "id": "527cf808",
   "metadata": {},
   "outputs": [
    {
     "name": "stdout",
     "output_type": "stream",
     "text": [
      "Merged file saved to ARB_sensor\\merged\\label_1.csv\n"
     ]
    }
   ],
   "source": [
    "import os\n",
    "import pandas as pd\n",
    "\n",
    "# Define the input and output directories\n",
    "#for k in range(1,2):\n",
    "input_folder = 'ARB_sensor\\seperated\\label_1'\n",
    "output_folder = 'ARB_sensor\\merged'\n",
    "output_file = os.path.join(output_folder, 'label_1.csv')\n",
    "\n",
    "# Ensure the output folder exists\n",
    "os.makedirs(output_folder, exist_ok=True)\n",
    "\n",
    "# List of file names to merge\n",
    "#  file_names = [f'{i}_'+str(k)+'.csv' for i in range(501, 519)]  # 501_1.csv to 518_1.csv\n",
    "\n",
    "#file_names = [f'{i}_'+str(k)+'.csv' for i in range(501, 519)]\n",
    "#for file_names in os .listdir(input_folder):\n",
    "# Initialize an empty list to store dataframes\n",
    "dataframes = []\n",
    "\n",
    "# Loop through each file, read it, and append to the list\n",
    "for file_name in os.listdir(input_folder):\n",
    "    file_path = os.path.join(input_folder, file_name)\n",
    "    if os.path.exists(file_path):  # Check if the file exists\n",
    "        df = pd.read_csv(file_path)\n",
    "        dataframes.append(df)\n",
    "    else:\n",
    "        print(f\"File {file_name} not found in {input_folder}.\")\n",
    "\n",
    "# Concatenate all dataframes into one\n",
    "merged_df = pd.concat(dataframes, ignore_index=True)\n",
    "merged_df.to_csv(output_file, index=False)\n",
    "\n",
    "print(f\"Merged file saved to {output_file}\")"
   ]
  },
  {
   "cell_type": "code",
   "execution_count": null,
   "id": "0167b82f",
   "metadata": {},
   "outputs": [],
   "source": []
  },
  {
   "cell_type": "code",
   "execution_count": null,
   "id": "dc5bf603",
   "metadata": {},
   "outputs": [],
   "source": []
  },
  {
   "cell_type": "code",
   "execution_count": 2,
   "id": "3b532aa0",
   "metadata": {},
   "outputs": [],
   "source": [
    "import pandas as pd\n",
    "import os \n",
    "\n",
    "for files in os.listdir(\"ARB_sensor/S2_Dataset/\"):\n",
    "    data=pd.read_csv(\"ARB_sensor/S2_Dataset/\"+files,header=None)\n",
    "    filtered_data = data[[1, 2, 3, 8]]\n",
    "    filtered_data.columns = ['Frontal', 'Vertical', 'Lateral', 'label']\n",
    "    grouped_data = filtered_data.groupby('label')\n",
    "    for index, group in grouped_data:         \n",
    "        save_dir = os.path.expanduser(\"ARB_sensor/seperated/label_\" + str(index))\n",
    "        os.makedirs(save_dir, exist_ok=True)\n",
    "        output_path = os.path.join(save_dir,str(files)+'_'+str(index)+'.csv' )\n",
    "        group.to_csv(output_path, index=False) "
   ]
  },
  {
   "cell_type": "code",
   "execution_count": null,
   "id": "043e6790",
   "metadata": {},
   "outputs": [],
   "source": []
  }
 ],
 "metadata": {
  "kernelspec": {
   "display_name": "Python 3 (ipykernel)",
   "language": "python",
   "name": "python3"
  },
  "language_info": {
   "codemirror_mode": {
    "name": "ipython",
    "version": 3
   },
   "file_extension": ".py",
   "mimetype": "text/x-python",
   "name": "python",
   "nbconvert_exporter": "python",
   "pygments_lexer": "ipython3",
   "version": "3.11.7"
  }
 },
 "nbformat": 4,
 "nbformat_minor": 5
}
