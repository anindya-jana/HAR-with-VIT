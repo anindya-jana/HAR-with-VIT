{
 "cells": [
  {
   "cell_type": "code",
   "execution_count": 1,
   "id": "84c03014-0a13-47a2-8726-e7fe21f88560",
   "metadata": {},
   "outputs": [],
   "source": [
    "import os\n",
    "import random\n",
    "import shutil\n",
    "for i in range(1,5):# as i cannot find 2 in label\n",
    "  #  if (i ==2):\n",
    "  #      continue\n",
    "    add=\"ARB_sensor/\"\n",
    "    data_path = add+\"heatmap_data/label_\"+str(i)\n",
    "    \n",
    "    # path to destination folders\n",
    "    train_folder = add+\"seperated_heatmap_data/train/label_\"+str(i)\n",
    "    val_folder = add+\"seperated_heatmap_data/valid/label_\"+str(i)\n",
    "    test_folder = add+\"seperated_heatmap_data/test/label_\"+str(i)\n",
    "    \n",
    "    # Define a list of image extensions\n",
    "    image_extensions = ['.jpg', '.jpeg', '.png', '.bmp']\n",
    "    \n",
    "    # Create a list of image filenames in 'data_path'\n",
    "    imgs_list = [filename for filename in os.listdir(data_path) if os.path.splitext(filename)[-1] in image_extensions]\n",
    "    \n",
    "    random.seed(42)\n",
    "    \n",
    "    # Shuffle the list of image filenames\n",
    "    random.shuffle(imgs_list)\n",
    "    \n",
    "    # determine the number of images for each set\n",
    "    train_size = int(len(imgs_list) * 0.70)\n",
    "    val_size = int(len(imgs_list) * 0.15)\n",
    "    test_size = int(len(imgs_list) * 0.15)\n",
    "    \n",
    "    # Create destination folders if they don't exist\n",
    "    for folder_path in [train_folder, val_folder, test_folder]:\n",
    "        if not os.path.exists(folder_path):\n",
    "            os.makedirs(folder_path)\n",
    "    \n",
    "    # Copy image files to destination folders\n",
    "    for i, f in enumerate(imgs_list):\n",
    "        if i < train_size:\n",
    "            dest_folder = train_folder\n",
    "        elif i < train_size + val_size:\n",
    "            dest_folder = val_folder\n",
    "        else:\n",
    "            dest_folder = test_folder\n",
    "        shutil.copy(os.path.join(data_path, f), os.path.join(dest_folder, f))"
   ]
  },
  {
   "cell_type": "code",
   "execution_count": 17,
   "id": "05ccb86e-9a26-4164-b4f4-4a5f926df469",
   "metadata": {},
   "outputs": [],
   "source": []
  },
  {
   "cell_type": "code",
   "execution_count": null,
   "id": "1828e649",
   "metadata": {},
   "outputs": [],
   "source": []
  }
 ],
 "metadata": {
  "kernelspec": {
   "display_name": "Python 3 (ipykernel)",
   "language": "python",
   "name": "python3"
  },
  "language_info": {
   "codemirror_mode": {
    "name": "ipython",
    "version": 3
   },
   "file_extension": ".py",
   "mimetype": "text/x-python",
   "name": "python",
   "nbconvert_exporter": "python",
   "pygments_lexer": "ipython3",
   "version": "3.11.7"
  }
 },
 "nbformat": 4,
 "nbformat_minor": 5
}
